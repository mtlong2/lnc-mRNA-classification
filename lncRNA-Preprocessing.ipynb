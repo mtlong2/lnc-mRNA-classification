{
 "cells": [
  {
   "cell_type": "code",
   "execution_count": 1,
   "metadata": {},
   "outputs": [],
   "source": [
    "\n",
    "%reload_ext autoreload\n",
    "%autoreload 2\n",
    "%matplotlib inline"
   ]
  },
  {
   "cell_type": "code",
   "execution_count": 2,
   "metadata": {},
   "outputs": [],
   "source": [
    "from fastai import *\n",
    "from fastai.text.all import *\n",
    "from pathlib import Path"
   ]
  },
  {
   "cell_type": "code",
   "execution_count": 4,
   "metadata": {},
   "outputs": [],
   "source": [
    "from Bio import Seq\n",
    "from Bio.Seq import Seq\n",
    "from Bio import SeqIO\n",
    "from Bio.SeqRecord import SeqRecord\n",
    "from Bio.SeqFeature import FeatureLocation, CompoundLocation\n",
    "import networkx as nx\n",
    "from utils import *"
   ]
  },
  {
   "cell_type": "code",
   "execution_count": 6,
   "metadata": {},
   "outputs": [],
   "source": [
    "path = Path('../data/genomic_data/')"
   ]
  },
  {
   "cell_type": "code",
   "execution_count": 7,
   "metadata": {},
   "outputs": [],
   "source": [
    "# select train, test and challenge data for 16K\n",
    "mrna_train16k = 'mRNAs.train16K.fa'  \n",
    "lncrna_train16k = 'lncRNAs.train16K.fa'\n",
    "\n",
    "mrna_test ='mRNAs.TEST500.fa'\n",
    "lncrna_test = 'lncRNAs.TEST500.fa'\n",
    "\n",
    "mrna_challenge = 'mRNAs.CHALLENGE500.fa'\n",
    "lncrna_challenge = 'lncRNAs.CHALLENGE500.fa'\n",
    "\n",
    "# build data set for FULL length sequence files\n",
    "mrna_train = 'mRNAs.TRAIN.fa'\n",
    "lncrna_train = 'lncRNAs.TRAIN.fa'"
   ]
  },
  {
   "cell_type": "code",
   "execution_count": 8,
   "metadata": {},
   "outputs": [],
   "source": [
    "# parse fasta files\n",
    "def parse_fdata(filename, label):\n",
    "    fasta = SeqIO.parse(path/filename, 'fasta')\n",
    "    files = [i for i in fasta]\n",
    "    seqs = [str(i.seq) for i in files]\n",
    "    df = pd.DataFrame(seqs, columns=['Sequence'])\n",
    "    df['Target'] = label\n",
    "    df = df.drop_duplicates()\n",
    "    return df"
   ]
  },
  {
   "cell_type": "code",
   "execution_count": 10,
   "metadata": {},
   "outputs": [],
   "source": [
    "def split_data(df):\n",
    "    train_sz = int(len(df) * 0.90)\n",
    "    val_sz = int(len(df) - train_sz)\n",
    "    \n",
    "    train_df = df.sample(train_sz)\n",
    "    val_df = df.drop(train_df.index)\n",
    "    \n",
    "    train_df['set'] = 'train'\n",
    "    val_df['set'] = 'validation'\n",
    "    \n",
    "    return pd.concat([train_df, val_df])"
   ]
  },
  {
   "cell_type": "code",
   "execution_count": 12,
   "metadata": {},
   "outputs": [],
   "source": [
    "# 16K files\n",
    "mrna16k_df = split_data(parse_fdata(mrna_train16k, 'mRNA'))\n",
    "lncrna16k_df = split_data(parse_fdata(lncrna_train16k, 'lncRNA'))\n",
    "\n",
    "mrna_test_df = split_data(parse_fdata(mrna_test, 'mRNA'))\n",
    "mrna_test_df['set'] = 'test'\n",
    "lncrna_test_df = split_data(parse_fdata(lncrna_test, 'lncRNA'))\n",
    "lncrna_test_df['set'] = 'test'\n",
    "\n",
    "\n",
    "mrna_chal_df = split_data(parse_fdata(mrna_challenge, 'mRNA'))\n",
    "mrna_chal_df['set'] = 'challenge set'\n",
    "\n",
    "lncrna_chal_df = split_data(parse_fdata(lncrna_challenge, 'lncRNA'))\n",
    "lncrna_chal_df['set'] = 'challenge set'\n",
    "\n",
    "# Full length sequence\n",
    "mrna_df = split_data(parse_fdata(mrna_train, 'mRNA'))\n",
    "lncrna_df = split_data(parse_fdata(lncrna_train, 'lncRNA'))\n"
   ]
  },
  {
   "cell_type": "code",
   "execution_count": 13,
   "metadata": {},
   "outputs": [],
   "source": [
    "dfs = [mrna16k_df, lncrna16k_df, mrna_test_df, lncrna_test_df, mrna_chal_df, lncrna_chal_df]"
   ]
  },
  {
   "cell_type": "code",
   "execution_count": 14,
   "metadata": {},
   "outputs": [
    {
     "data": {
      "text/plain": [
       "[(15978, 3), (15950, 3), (500, 3), (500, 3), (499, 3), (500, 3)]"
      ]
     },
     "execution_count": 14,
     "metadata": {},
     "output_type": "execute_result"
    }
   ],
   "source": [
    "[i.shape for i in dfs]"
   ]
  },
  {
   "cell_type": "code",
   "execution_count": 15,
   "metadata": {},
   "outputs": [],
   "source": [
    "data_df = pd.concat(dfs)"
   ]
  },
  {
   "cell_type": "code",
   "execution_count": 16,
   "metadata": {},
   "outputs": [
    {
     "data": {
      "text/html": [
       "<div>\n",
       "<style scoped>\n",
       "    .dataframe tbody tr th:only-of-type {\n",
       "        vertical-align: middle;\n",
       "    }\n",
       "\n",
       "    .dataframe tbody tr th {\n",
       "        vertical-align: top;\n",
       "    }\n",
       "\n",
       "    .dataframe thead th {\n",
       "        text-align: right;\n",
       "    }\n",
       "</style>\n",
       "<table border=\"1\" class=\"dataframe\">\n",
       "  <thead>\n",
       "    <tr style=\"text-align: right;\">\n",
       "      <th></th>\n",
       "      <th>Sequence</th>\n",
       "      <th>Target</th>\n",
       "      <th>set</th>\n",
       "    </tr>\n",
       "  </thead>\n",
       "  <tbody>\n",
       "    <tr>\n",
       "      <th>439</th>\n",
       "      <td>GCTGCCCAGAGAGGTCTTTAATCCATGACTCCAAAGCAAGTCCCTGAGTCGCTGCACCCACAACTCACGATCTCGGGGTCCGGCGTTAGTCTTCAGCACCGGGATCTCAGACACAACACGTCGCGTGGCTTCATCCGCCATCTTGGACCAGGGCGCAAGAGAAACGCGGAAGTGGTGTTGCCTGTAGCTTACCTCAAGGCGCCGTCATCTTTACTATGGGAAGATGAGACGTTGGGTTGCTGTAAGACCTCTTTTGAATAAGATCTTTGTTTTCTTGTCACCTAGTTACCCGCTTGTGAGTGCATCGAGAAGAACAGAATGTAAACAGATTACTCCGTCCTATATATGACACCTATCATTAAAATCACCGCATAAGGCA</td>\n",
       "      <td>lncRNA</td>\n",
       "      <td>challenge set</td>\n",
       "    </tr>\n",
       "    <tr>\n",
       "      <th>448</th>\n",
       "      <td>AAATAAAAGCAAGTCTCATTACTTTTCAAGGGGAGTGTAGAAGCGATTAGTCTCTGATGATAATAAGGGTACCCCCCATGTAAAACTGCCACAAGCTCTCAGAAGTGAGACTTTAGCTCCTTACAAATGCTGAGCAGACGTGAACACCCTCCTGGGAGATTGATGAGTCCTATTAACCTTGTTGCATAGATGGAAACTCAGAAACAAAGTGACTCTGAGGATTAAGAGGAAGTCAATGTCAGCACCAGGATTAGAATTCACACTTGCCTGGTTTCTCAGCCCACAACCAGCTCCCCCATGGATTCCTGCTTTGTCTCCCTCCCCAAGTGAGGGGACAGGGTGTTTCCAAACTTTAAAAGAATCCTGTTATCCTCAGGCCTCTGCCTTGTAGGAAGATCCTTTCTTTTAATAAATTACAGAGCTGAGAA</td>\n",
       "      <td>lncRNA</td>\n",
       "      <td>challenge set</td>\n",
       "    </tr>\n",
       "    <tr>\n",
       "      <th>458</th>\n",
       "      <td>GTGTTCACACAGTGCTAAGGGAACACGCTGACGTGTGTGACATCAAGAACTCCAGTGCCCACACAGCCCGAGTCCGGATGGGACGTTTGAAATCAGGAAGGAGTGTGGGTTGGATCCACGTTTCTGTTCATACCAGGCAGGCACATCGGAAGGCTCACGGTCAGAGGATGCTGGGACAAACGCCACGAGAGGTTCCTTTTTGTCTGGCTCACCCAGAAGAGAGGCTCCTCTCCTCCCTTCCCTGCAGCACAACGGCCTGGCTGGCACCCAAAGGGCAGCCGGCATGGGCTGACCTCAGAGGAGCAAGGCGTGTTTGCAGCTCTGCCGCTCACATCCACAGTGGCCATGACAACAGGTGCAGCACCATCCATTAAAGCCCTGTGTCATTTCA</td>\n",
       "      <td>lncRNA</td>\n",
       "      <td>challenge set</td>\n",
       "    </tr>\n",
       "    <tr>\n",
       "      <th>480</th>\n",
       "      <td>TTGGCTACACATTGGAGTCATTTGGGAAGCTAGAAAAAAAAAATGCCCAGGACCTGGGCAAGACGGCTGAATAAGAACAGCTCTGGTCTGCAGTTCCTAGCAAGATCAACGCAGAAGGGAAGCTGGCAGCCTGGGCTCTTGGAGATTGTATCTGGTGCCGGAGAGGACTGGCTCCCACACTCAGTGAGGGAGGAATTTTACTGACCCAGCATCCAGATGAACTTTGGTGAGGAGAGGAGGTGAGGAAGTCAATGAGCCTTGCTTTTTCACTTGCAATTACGGCATTTCCTTTGGAAATGGACATAAGAGCCTGGTGGTTGATGATGGAAGAGATGAAACTGTGAAGAGACCGAAGAAGCTAATCTATCAATAGTTAAGATTCCATTTCTAAAAGATCTTACTTTGAGTCTACCTATGCCTGGG</td>\n",
       "      <td>lncRNA</td>\n",
       "      <td>challenge set</td>\n",
       "    </tr>\n",
       "    <tr>\n",
       "      <th>499</th>\n",
       "      <td>AGACCCGGTGAGAGGTACTGGGCGATGAGGAAGTACAGCTCCAACTCCATGAGAGGCACCGGGCCTCAGAACCAGGAAGATCCGGATAAAGACACTGTCTGCACTCTACTCAGATGCCCTTTGAGTCTATGCGCTGTTTCTGGGCTCATCCTCCAGCCTCAACGTGTTTGCTGCCACACAGCATGTCCTGTGGGACTGGAGAAATATGGAGAATGCAGCACACTTGCTTCCTACTGAA</td>\n",
       "      <td>lncRNA</td>\n",
       "      <td>challenge set</td>\n",
       "    </tr>\n",
       "  </tbody>\n",
       "</table>\n",
       "</div>"
      ],
      "text/plain": [
       "                                                                                                                                                                                                                                                                                                                                                                                                                                         Sequence  \\\n",
       "439                                                   GCTGCCCAGAGAGGTCTTTAATCCATGACTCCAAAGCAAGTCCCTGAGTCGCTGCACCCACAACTCACGATCTCGGGGTCCGGCGTTAGTCTTCAGCACCGGGATCTCAGACACAACACGTCGCGTGGCTTCATCCGCCATCTTGGACCAGGGCGCAAGAGAAACGCGGAAGTGGTGTTGCCTGTAGCTTACCTCAAGGCGCCGTCATCTTTACTATGGGAAGATGAGACGTTGGGTTGCTGTAAGACCTCTTTTGAATAAGATCTTTGTTTTCTTGTCACCTAGTTACCCGCTTGTGAGTGCATCGAGAAGAACAGAATGTAAACAGATTACTCCGTCCTATATATGACACCTATCATTAAAATCACCGCATAAGGCA   \n",
       "448  AAATAAAAGCAAGTCTCATTACTTTTCAAGGGGAGTGTAGAAGCGATTAGTCTCTGATGATAATAAGGGTACCCCCCATGTAAAACTGCCACAAGCTCTCAGAAGTGAGACTTTAGCTCCTTACAAATGCTGAGCAGACGTGAACACCCTCCTGGGAGATTGATGAGTCCTATTAACCTTGTTGCATAGATGGAAACTCAGAAACAAAGTGACTCTGAGGATTAAGAGGAAGTCAATGTCAGCACCAGGATTAGAATTCACACTTGCCTGGTTTCTCAGCCCACAACCAGCTCCCCCATGGATTCCTGCTTTGTCTCCCTCCCCAAGTGAGGGGACAGGGTGTTTCCAAACTTTAAAAGAATCCTGTTATCCTCAGGCCTCTGCCTTGTAGGAAGATCCTTTCTTTTAATAAATTACAGAGCTGAGAA   \n",
       "458                                       GTGTTCACACAGTGCTAAGGGAACACGCTGACGTGTGTGACATCAAGAACTCCAGTGCCCACACAGCCCGAGTCCGGATGGGACGTTTGAAATCAGGAAGGAGTGTGGGTTGGATCCACGTTTCTGTTCATACCAGGCAGGCACATCGGAAGGCTCACGGTCAGAGGATGCTGGGACAAACGCCACGAGAGGTTCCTTTTTGTCTGGCTCACCCAGAAGAGAGGCTCCTCTCCTCCCTTCCCTGCAGCACAACGGCCTGGCTGGCACCCAAAGGGCAGCCGGCATGGGCTGACCTCAGAGGAGCAAGGCGTGTTTGCAGCTCTGCCGCTCACATCCACAGTGGCCATGACAACAGGTGCAGCACCATCCATTAAAGCCCTGTGTCATTTCA   \n",
       "480       TTGGCTACACATTGGAGTCATTTGGGAAGCTAGAAAAAAAAAATGCCCAGGACCTGGGCAAGACGGCTGAATAAGAACAGCTCTGGTCTGCAGTTCCTAGCAAGATCAACGCAGAAGGGAAGCTGGCAGCCTGGGCTCTTGGAGATTGTATCTGGTGCCGGAGAGGACTGGCTCCCACACTCAGTGAGGGAGGAATTTTACTGACCCAGCATCCAGATGAACTTTGGTGAGGAGAGGAGGTGAGGAAGTCAATGAGCCTTGCTTTTTCACTTGCAATTACGGCATTTCCTTTGGAAATGGACATAAGAGCCTGGTGGTTGATGATGGAAGAGATGAAACTGTGAAGAGACCGAAGAAGCTAATCTATCAATAGTTAAGATTCCATTTCTAAAAGATCTTACTTTGAGTCTACCTATGCCTGGG   \n",
       "499                                                                                                                                                                                                AGACCCGGTGAGAGGTACTGGGCGATGAGGAAGTACAGCTCCAACTCCATGAGAGGCACCGGGCCTCAGAACCAGGAAGATCCGGATAAAGACACTGTCTGCACTCTACTCAGATGCCCTTTGAGTCTATGCGCTGTTTCTGGGCTCATCCTCCAGCCTCAACGTGTTTGCTGCCACACAGCATGTCCTGTGGGACTGGAGAAATATGGAGAATGCAGCACACTTGCTTCCTACTGAA   \n",
       "\n",
       "     Target            set  \n",
       "439  lncRNA  challenge set  \n",
       "448  lncRNA  challenge set  \n",
       "458  lncRNA  challenge set  \n",
       "480  lncRNA  challenge set  \n",
       "499  lncRNA  challenge set  "
      ]
     },
     "execution_count": 16,
     "metadata": {},
     "output_type": "execute_result"
    }
   ],
   "source": [
    "data_df.tail()"
   ]
  },
  {
   "cell_type": "code",
   "execution_count": 17,
   "metadata": {},
   "outputs": [],
   "source": [
    "data_df.to_csv(path/'lncRNA_data.csv', index=False)"
   ]
  },
  {
   "cell_type": "code",
   "execution_count": 19,
   "metadata": {},
   "outputs": [
    {
     "data": {
      "text/plain": [
       "[(86978, 3), (24339, 3), (500, 3), (500, 3), (499, 3), (500, 3)]"
      ]
     },
     "execution_count": 19,
     "metadata": {},
     "output_type": "execute_result"
    }
   ],
   "source": [
    "full_len_dfs = [mrna_df, lncrna_df, mrna_test_df, lncrna_test_df, mrna_chal_df, lncrna_chal_df]\n",
    "[i.shape for i in full_len_dfs]"
   ]
  },
  {
   "cell_type": "code",
   "execution_count": 20,
   "metadata": {},
   "outputs": [],
   "source": [
    "full_len_df = pd.concat(full_len_dfs)"
   ]
  },
  {
   "cell_type": "code",
   "execution_count": 21,
   "metadata": {},
   "outputs": [
    {
     "data": {
      "text/plain": [
       "(113316, 3)"
      ]
     },
     "execution_count": 21,
     "metadata": {},
     "output_type": "execute_result"
    }
   ],
   "source": [
    "full_len_df.shape"
   ]
  },
  {
   "cell_type": "code",
   "execution_count": 23,
   "metadata": {},
   "outputs": [
    {
     "data": {
      "text/html": [
       "<div>\n",
       "<style scoped>\n",
       "    .dataframe tbody tr th:only-of-type {\n",
       "        vertical-align: middle;\n",
       "    }\n",
       "\n",
       "    .dataframe tbody tr th {\n",
       "        vertical-align: top;\n",
       "    }\n",
       "\n",
       "    .dataframe thead th {\n",
       "        text-align: right;\n",
       "    }\n",
       "</style>\n",
       "<table border=\"1\" class=\"dataframe\">\n",
       "  <thead>\n",
       "    <tr style=\"text-align: right;\">\n",
       "      <th></th>\n",
       "      <th>Sequence</th>\n",
       "      <th>Target</th>\n",
       "      <th>set</th>\n",
       "    </tr>\n",
       "  </thead>\n",
       "  <tbody>\n",
       "    <tr>\n",
       "      <th>54494</th>\n",
       "      <td>CAAGGCATTCTTCCATGTCCTCAGCCTCCTCTTTCCTTCCTAGGACTGGCTTCCATGGAGGTGAAGAACTGCTGCATGGTGACAGAGTTCATCCTTTTGGGAATCCCACACACAGAGGGGCTGGAGATGACACTTTTTGTCTTATTCTTGCCCTTCTATGCCTGCACTCTACTGGGAAATGTGTCTATCCTTGTTGCTGTTATGTCTTCTGCTCGCCTTCACACACCTATGTATTTCTTCCTGGGAAACTTGTCTGTGTTTGACATGGGTTTCTCCTCAGTGACTTGTCCCAAAATGCTGCTCTACCTTATGGGGCTGAGCCGACTCATCTCCTACAAAGACTGTGTCTGCCAGCTTTTCTTCTTCCATTTCCTCGGGAGCATTGAGTGCTTCTTGTTTACGGTGATGGCCTATGACCGCTTCACTGCCATCTGTTATCCTCTGCGATACACAGTCATCATGAACCCAAGGATCTGTGTGGCCCTGGCTGTGGGCACATGGCTGTTAGGGTGCATTCATTCCAGTATCTTGACCTCCCTCACCTTCACCTTGCCATACTGTGGTCCCAATGAAGTGGATCACTTCTTCTGTGACAT...</td>\n",
       "      <td>mRNA</td>\n",
       "      <td>train</td>\n",
       "    </tr>\n",
       "    <tr>\n",
       "      <th>70168</th>\n",
       "      <td>TCCCAGCCCGGCGACTGCTCGGGCCCGGCCGCCACCTGCACGGCGGGGGAGCCGCTCGCCGCGGGAGCGTCAGGAGGGCACGCGTCTGCGGCTGAACCGCGGAAGGGCCGGTGAGGAACCGGGCCTCGGGAGATGGCCCTGAGGGCCCCCGCACTGCTGCCGCTGCTGCTGCTACTACTGCCGCTCCGCGCCGCCGGCTGCCCAGCAGCCTGCCGCTGCTACAGCGCCACGGTGGAGTGTGGCGCCCTGCGGTTGCGCGTCGTCCCGCTGGGAATCCCGCCAGGGACGCAGACACTGTTCCTGCAGGACAACAACATCGCCCGCCTAGAGCCGGGAGCCCTGGCGCCACTCGCCGCTCTGCGCCGGCTCTACCTGCACAACAACAGCCTGCGCGCCCTGGAGGCCGGCGCCTTCCGCGCGCAGCCGCGCCTGCTGGAGCTGGCGCTCACTAGCAACCGGCTGCGCGGCTTGCGCAGCGGCGCCTTCGTAGGCCTGGCCCAGCTGCGCGTGCTCTACCTGGCGGGCAACCAGCTGGCGCGGCTGCTGGATTTCACCTTCTTGCACCTGCCGGAGCTTCACCTGCAAGAAAACAGCAT...</td>\n",
       "      <td>mRNA</td>\n",
       "      <td>train</td>\n",
       "    </tr>\n",
       "    <tr>\n",
       "      <th>5216</th>\n",
       "      <td>TTTTTTTTTTTTTCTTTTTTTTTTTTTGCCGGAGTCGAGCGGGTGCTGCTAGCGGAGGCGCCATATTGGAGGGGACAAAACTCCGGCGACAGCGAGTGACACAAATAAACCCCTGGACCCCCTTGTTCCCTCAGCTCTAAGGGCCGCGATGTTGTACCTAGAAGACTATCTGGAAATGATTGAGCAGCTTCCTATGGATCTGCGGGACCGCTTCACGGAAATGCGCGAGATGGACCTGCAGGTGCAGAATGCAATGGATCAACTAGAACAAAGAGTCAGTGAATTCTTTATGAATGCAAAGAAAAATAAACCTGAGTGGAGGGAAGAGCAAATGGCATCCATCAAAAAAGACTACTATAAAGCTTTGGAAGATGCAGATGAGAAGGTTCAGTTGGCAAACCAGATATATGACTTGGTAGATCGACACTTGAGAAAGCTGGATCAGGAACTGGCTAAGTTTAAAATGGAGCTGGAAGCTGATAATGCTGGAATTACAGAAATATTAGAGAGGCGATCTTTGGAATTAGACACTCCTTCACAGCCAGTGAACAATCACCATGCTCATTCACATACTCCAGTGGAAAAAAGGAAATATA...</td>\n",
       "      <td>mRNA</td>\n",
       "      <td>train</td>\n",
       "    </tr>\n",
       "    <tr>\n",
       "      <th>78696</th>\n",
       "      <td>GAGACTTTTAGTTTCGCTTTCGCTAAAGGGGCCCCAGACCCTTGCTGCGGAGCGACGGAGAGAGACTGTGCCAGTCCCAGCCGCCCTACCGCCGTGGGAACGATGGCAGATGATCAGGGCTGTATTGAAGAGCAGGGGGTTGAGGATTCAGCAAATGAAGATTCAGTGGATGCTAAGCCAGACCGGTCCTCGTTTGTACCGTCCCTCTTCAGTAAGAAGAAGAAAAATGTCACCATGCGATCCATCAAGACCACCCGGGACCGAGTGCCTACATATCAGTACAACATGAATTTTGAAAAGCTGGGCAAATGCATCATAATAAACAACAAGAACTTTGATAAAGTGACAGGTATGGGCGTTCGAAACGGAACAGACAAAGATGCCGAGGCGCTCTTCAAGTGCTTCCGAAGCCTGGGTTTTGACGTGATTGTCTATAATGACTGCTCTTGTGCCAAGATGCAAGATCTGCTTAAAAAAGCTTCTGAAGAGGACCATACAAATGCCGCCTGCTTCGCCTGCATCCTCTTAAGCCATGGAGAAGAAAATGTAATTTATGGGAAAGATGGTGTCACACCAATAAAGGATTTGACAGCCCA...</td>\n",
       "      <td>mRNA</td>\n",
       "      <td>train</td>\n",
       "    </tr>\n",
       "    <tr>\n",
       "      <th>53585</th>\n",
       "      <td>GATTTAACCCAGGAGAGCCGCTGGTGGGAGGCGCGGCTGGCGCCGCTGCGCGCATGGGCCTGTTCCTGGCCCGCAGCCGCCACCTACCCAGTGACCATGATAGTGTTTGTCAGGTTCAACTCCAGCCATGGTTTCCCAGTGGAGGTCGATTCTGACACCAGCATCTTCCAGCTCAAGGAGGTGGTTGCTAAGCGACAGGGGGTTCCGGCTGACCAGTTGCGTGTGATTTTCGCAGGGAAGGAGCTGAGGAATGACTGGACTGTGCAGAATTGTGACCTGGATCAGCAGAGCATTGTTCACATTGTGCAGAGACCGTGGAGAAAAGGTCAAGAAATGAATGCAACTGGAGGCGACGACCCCAGAAACGCGGCGGGAGGCTGTGAGCGGGAGCCCCAGAGCTTGACTCGGGTGGACCTCAGCAGCTCAGTCCTCCCAGGAGACTCTGTGGGGCTGGCTGTCATTCTGCACACTGACAGCAGGAAGGACTCACCACCAGCTGGAAGTCCAGCAGGTAGATCAATCTACAACAGCTTTTATGTGTATTGCAAAGGCCCCTGTCAAAGAGTGCAGCCGGGAAAACTCAGGGTACAGTGCAG...</td>\n",
       "      <td>mRNA</td>\n",
       "      <td>train</td>\n",
       "    </tr>\n",
       "  </tbody>\n",
       "</table>\n",
       "</div>"
      ],
      "text/plain": [
       "                                                                                                                                                                                                                                                                                                                                                                                                                                                                                                                                                                                                                      Sequence  \\\n",
       "54494  CAAGGCATTCTTCCATGTCCTCAGCCTCCTCTTTCCTTCCTAGGACTGGCTTCCATGGAGGTGAAGAACTGCTGCATGGTGACAGAGTTCATCCTTTTGGGAATCCCACACACAGAGGGGCTGGAGATGACACTTTTTGTCTTATTCTTGCCCTTCTATGCCTGCACTCTACTGGGAAATGTGTCTATCCTTGTTGCTGTTATGTCTTCTGCTCGCCTTCACACACCTATGTATTTCTTCCTGGGAAACTTGTCTGTGTTTGACATGGGTTTCTCCTCAGTGACTTGTCCCAAAATGCTGCTCTACCTTATGGGGCTGAGCCGACTCATCTCCTACAAAGACTGTGTCTGCCAGCTTTTCTTCTTCCATTTCCTCGGGAGCATTGAGTGCTTCTTGTTTACGGTGATGGCCTATGACCGCTTCACTGCCATCTGTTATCCTCTGCGATACACAGTCATCATGAACCCAAGGATCTGTGTGGCCCTGGCTGTGGGCACATGGCTGTTAGGGTGCATTCATTCCAGTATCTTGACCTCCCTCACCTTCACCTTGCCATACTGTGGTCCCAATGAAGTGGATCACTTCTTCTGTGACAT...   \n",
       "70168  TCCCAGCCCGGCGACTGCTCGGGCCCGGCCGCCACCTGCACGGCGGGGGAGCCGCTCGCCGCGGGAGCGTCAGGAGGGCACGCGTCTGCGGCTGAACCGCGGAAGGGCCGGTGAGGAACCGGGCCTCGGGAGATGGCCCTGAGGGCCCCCGCACTGCTGCCGCTGCTGCTGCTACTACTGCCGCTCCGCGCCGCCGGCTGCCCAGCAGCCTGCCGCTGCTACAGCGCCACGGTGGAGTGTGGCGCCCTGCGGTTGCGCGTCGTCCCGCTGGGAATCCCGCCAGGGACGCAGACACTGTTCCTGCAGGACAACAACATCGCCCGCCTAGAGCCGGGAGCCCTGGCGCCACTCGCCGCTCTGCGCCGGCTCTACCTGCACAACAACAGCCTGCGCGCCCTGGAGGCCGGCGCCTTCCGCGCGCAGCCGCGCCTGCTGGAGCTGGCGCTCACTAGCAACCGGCTGCGCGGCTTGCGCAGCGGCGCCTTCGTAGGCCTGGCCCAGCTGCGCGTGCTCTACCTGGCGGGCAACCAGCTGGCGCGGCTGCTGGATTTCACCTTCTTGCACCTGCCGGAGCTTCACCTGCAAGAAAACAGCAT...   \n",
       "5216   TTTTTTTTTTTTTCTTTTTTTTTTTTTGCCGGAGTCGAGCGGGTGCTGCTAGCGGAGGCGCCATATTGGAGGGGACAAAACTCCGGCGACAGCGAGTGACACAAATAAACCCCTGGACCCCCTTGTTCCCTCAGCTCTAAGGGCCGCGATGTTGTACCTAGAAGACTATCTGGAAATGATTGAGCAGCTTCCTATGGATCTGCGGGACCGCTTCACGGAAATGCGCGAGATGGACCTGCAGGTGCAGAATGCAATGGATCAACTAGAACAAAGAGTCAGTGAATTCTTTATGAATGCAAAGAAAAATAAACCTGAGTGGAGGGAAGAGCAAATGGCATCCATCAAAAAAGACTACTATAAAGCTTTGGAAGATGCAGATGAGAAGGTTCAGTTGGCAAACCAGATATATGACTTGGTAGATCGACACTTGAGAAAGCTGGATCAGGAACTGGCTAAGTTTAAAATGGAGCTGGAAGCTGATAATGCTGGAATTACAGAAATATTAGAGAGGCGATCTTTGGAATTAGACACTCCTTCACAGCCAGTGAACAATCACCATGCTCATTCACATACTCCAGTGGAAAAAAGGAAATATA...   \n",
       "78696  GAGACTTTTAGTTTCGCTTTCGCTAAAGGGGCCCCAGACCCTTGCTGCGGAGCGACGGAGAGAGACTGTGCCAGTCCCAGCCGCCCTACCGCCGTGGGAACGATGGCAGATGATCAGGGCTGTATTGAAGAGCAGGGGGTTGAGGATTCAGCAAATGAAGATTCAGTGGATGCTAAGCCAGACCGGTCCTCGTTTGTACCGTCCCTCTTCAGTAAGAAGAAGAAAAATGTCACCATGCGATCCATCAAGACCACCCGGGACCGAGTGCCTACATATCAGTACAACATGAATTTTGAAAAGCTGGGCAAATGCATCATAATAAACAACAAGAACTTTGATAAAGTGACAGGTATGGGCGTTCGAAACGGAACAGACAAAGATGCCGAGGCGCTCTTCAAGTGCTTCCGAAGCCTGGGTTTTGACGTGATTGTCTATAATGACTGCTCTTGTGCCAAGATGCAAGATCTGCTTAAAAAAGCTTCTGAAGAGGACCATACAAATGCCGCCTGCTTCGCCTGCATCCTCTTAAGCCATGGAGAAGAAAATGTAATTTATGGGAAAGATGGTGTCACACCAATAAAGGATTTGACAGCCCA...   \n",
       "53585  GATTTAACCCAGGAGAGCCGCTGGTGGGAGGCGCGGCTGGCGCCGCTGCGCGCATGGGCCTGTTCCTGGCCCGCAGCCGCCACCTACCCAGTGACCATGATAGTGTTTGTCAGGTTCAACTCCAGCCATGGTTTCCCAGTGGAGGTCGATTCTGACACCAGCATCTTCCAGCTCAAGGAGGTGGTTGCTAAGCGACAGGGGGTTCCGGCTGACCAGTTGCGTGTGATTTTCGCAGGGAAGGAGCTGAGGAATGACTGGACTGTGCAGAATTGTGACCTGGATCAGCAGAGCATTGTTCACATTGTGCAGAGACCGTGGAGAAAAGGTCAAGAAATGAATGCAACTGGAGGCGACGACCCCAGAAACGCGGCGGGAGGCTGTGAGCGGGAGCCCCAGAGCTTGACTCGGGTGGACCTCAGCAGCTCAGTCCTCCCAGGAGACTCTGTGGGGCTGGCTGTCATTCTGCACACTGACAGCAGGAAGGACTCACCACCAGCTGGAAGTCCAGCAGGTAGATCAATCTACAACAGCTTTTATGTGTATTGCAAAGGCCCCTGTCAAAGAGTGCAGCCGGGAAAACTCAGGGTACAGTGCAG...   \n",
       "\n",
       "      Target    set  \n",
       "54494   mRNA  train  \n",
       "70168   mRNA  train  \n",
       "5216    mRNA  train  \n",
       "78696   mRNA  train  \n",
       "53585   mRNA  train  "
      ]
     },
     "execution_count": 23,
     "metadata": {},
     "output_type": "execute_result"
    }
   ],
   "source": [
    "full_len_df.head()"
   ]
  },
  {
   "cell_type": "code",
   "execution_count": 25,
   "metadata": {},
   "outputs": [],
   "source": [
    "full_len_df = full_len_df[~full_len_df.Sequence.map(lambda x: 'N' in x.upper())]"
   ]
  },
  {
   "cell_type": "code",
   "execution_count": 26,
   "metadata": {},
   "outputs": [
    {
     "data": {
      "text/plain": [
       "(113315, 3)"
      ]
     },
     "execution_count": 26,
     "metadata": {},
     "output_type": "execute_result"
    }
   ],
   "source": [
    "full_len_df.shape"
   ]
  },
  {
   "cell_type": "code",
   "execution_count": 27,
   "metadata": {},
   "outputs": [],
   "source": [
    "full_len_df.to_csv(path/'lncRNA_Full_len_data.csv')"
   ]
  },
  {
   "cell_type": "code",
   "execution_count": null,
   "metadata": {},
   "outputs": [],
   "source": []
  }
 ],
 "metadata": {
  "environment": {
   "name": "pytorch-gpu.1-4.m55",
   "type": "gcloud",
   "uri": "gcr.io/deeplearning-platform-release/pytorch-gpu.1-4:m55"
  },
  "kernelspec": {
   "display_name": "Python 3",
   "language": "python",
   "name": "python3"
  },
  "language_info": {
   "codemirror_mode": {
    "name": "ipython",
    "version": 3
   },
   "file_extension": ".py",
   "mimetype": "text/x-python",
   "name": "python",
   "nbconvert_exporter": "python",
   "pygments_lexer": "ipython3",
   "version": "3.7.6"
  }
 },
 "nbformat": 4,
 "nbformat_minor": 4
}
